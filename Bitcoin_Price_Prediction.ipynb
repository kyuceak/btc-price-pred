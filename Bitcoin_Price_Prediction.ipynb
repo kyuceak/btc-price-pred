{
  "cells": [
    {
      "cell_type": "markdown",
      "metadata": {
        "id": "TxIcfEio4AVx"
      },
      "source": [
        "## Introduction\n",
        "<font color=\"yellow\">\n",
        "Data science is an excellent way to predict Bitcoin’s future in high accurate by inspecting the old trends and patterns. Looking at the past data of the bitcoin can lead us to high accurate predictions about where bitcoin will head in the future. These high accurate predictions might lead us to make good profitable decision in the Bitcoin market. In our project, we will use of different datasets in order to analyze bitcoin which will allow us to make high accurate predictions about the bitcoin market.\n",
        "<font/>"
      ]
    },
    {
      "cell_type": "markdown",
      "metadata": {
        "id": "Z72FCugu4FvN"
      },
      "source": [
        "# Utilized Datasets\n",
        "In step 1, we used the BTC-USD data set from kaggle.com. \n",
        "The contents of this dataset include: \n",
        "\n",
        "Date, opening, high and low of the days, close price, and trade volume are among the features in the dataset, which spans the last eight years.\n",
        "\n",
        "Then, we obtained new data by calculating the market cap, changes in the opening and closing, BTC volume and Total Supply based on these data and graphed them.\n",
        "\n",
        "Data could be retrieved from: https://www.kaggle.com/datasets/surajjha101/analyzing-and-prediction-of-bitcoin-pricing "
      ]
    },
    {
      "cell_type": "code",
      "execution_count": null,
      "metadata": {
        "colab": {
          "base_uri": "https://localhost:8080/"
        },
        "id": "-pouCJH64IMd",
        "outputId": "1e4028cd-a876-4a41-9636-a9d1d8763367"
      },
      "outputs": [
        {
          "name": "stdout",
          "output_type": "stream",
          "text": [
            "Looking in indexes: https://pypi.org/simple, https://us-python.pkg.dev/colab-wheels/public/simple/\n",
            "Requirement already satisfied: reverse_geocoder in /usr/local/lib/python3.7/dist-packages (1.5.1)\n",
            "Requirement already satisfied: scipy>=0.17.1 in /usr/local/lib/python3.7/dist-packages (from reverse_geocoder) (1.4.1)\n",
            "Requirement already satisfied: numpy>=1.11.0 in /usr/local/lib/python3.7/dist-packages (from reverse_geocoder) (1.21.6)\n",
            "Looking in indexes: https://pypi.org/simple, https://us-python.pkg.dev/colab-wheels/public/simple/\n",
            "Requirement already satisfied: geopy in /usr/local/lib/python3.7/dist-packages (1.17.0)\n",
            "Requirement already satisfied: geographiclib<2,>=1.49 in /usr/local/lib/python3.7/dist-packages (from geopy) (1.52)\n"
          ]
        }
      ],
      "source": [
        "!pip install reverse_geocoder\n",
        "!pip install geopy"
      ]
    },
    {
      "cell_type": "code",
      "execution_count": null,
      "metadata": {
        "id": "1xqGct424Kp_"
      },
      "outputs": [],
      "source": [
        "import pandas as pd\n",
        "import numpy as np\n",
        "import matplotlib.pyplot as plt\n",
        "import reverse_geocoder as rg\n",
        "from geopy.distance import geodesic\n",
        "from scipy import stats\n",
        "import seaborn as sns\n",
        "from os.path import join\n",
        "from os import listdir\n",
        "\n",
        "\n",
        "import warnings\n",
        "warnings.filterwarnings(\"ignore\")\n",
        "\n",
        "%matplotlib inline"
      ]
    },
    {
      "cell_type": "markdown",
      "metadata": {
        "id": "rriPaOir4M2W"
      },
      "source": [
        "## Downloading Data to the Google Cloud\n",
        "We've uploaded our data to Google Cloud Storage, where anyone may download and try out our notebook!"
      ]
    },
    {
      "cell_type": "code",
      "execution_count": null,
      "metadata": {
        "colab": {
          "base_uri": "https://localhost:8080/"
        },
        "id": "-8I0rFDY4O6o",
        "outputId": "16603ca4-c022-4b90-98b1-88ca997ea830"
      },
      "outputs": [
        {
          "name": "stdout",
          "output_type": "stream",
          "text": [
            "Mounted at ./drive\n"
          ]
        }
      ],
      "source": [
        "from google.colab import drive\n",
        "drive.mount('./drive', force_remount=True)\n",
        "\n",
        "path_prefix = './drive/My Drive'"
      ]
    },
    {
      "cell_type": "markdown",
      "metadata": {
        "id": "Qx7dyuM04fuq"
      },
      "source": [
        "#Exploratory Data Analysis"
      ]
    },
    {
      "cell_type": "markdown",
      "metadata": {
        "id": "AaFaEiE84km5"
      },
      "source": [
        "In this part, we are reading our main data set, BTC-USD data set."
      ]
    },
    {
      "cell_type": "code",
      "execution_count": null,
      "metadata": {
        "colab": {
          "base_uri": "https://localhost:8080/",
          "height": 424
        },
        "id": "Vbh_rnTS4jVH",
        "outputId": "72380dd5-3c4b-4b6b-a316-c64273bfe29d"
      },
      "outputs": [
        {
          "data": {
            "text/html": [
              "\n",
              "  <div id=\"df-223a6489-bc9e-4097-a6ed-7be5da487fae\">\n",
              "    <div class=\"colab-df-container\">\n",
              "      <div>\n",
              "<style scoped>\n",
              "    .dataframe tbody tr th:only-of-type {\n",
              "        vertical-align: middle;\n",
              "    }\n",
              "\n",
              "    .dataframe tbody tr th {\n",
              "        vertical-align: top;\n",
              "    }\n",
              "\n",
              "    .dataframe thead th {\n",
              "        text-align: right;\n",
              "    }\n",
              "</style>\n",
              "<table border=\"1\" class=\"dataframe\">\n",
              "  <thead>\n",
              "    <tr style=\"text-align: right;\">\n",
              "      <th></th>\n",
              "      <th>Date</th>\n",
              "      <th>Open</th>\n",
              "      <th>High</th>\n",
              "      <th>Low</th>\n",
              "      <th>Close</th>\n",
              "      <th>Adj Close</th>\n",
              "      <th>Volume</th>\n",
              "    </tr>\n",
              "  </thead>\n",
              "  <tbody>\n",
              "    <tr>\n",
              "      <th>0</th>\n",
              "      <td>2014-09-17</td>\n",
              "      <td>465.864014</td>\n",
              "      <td>468.174011</td>\n",
              "      <td>452.421997</td>\n",
              "      <td>457.334015</td>\n",
              "      <td>457.334015</td>\n",
              "      <td>21056800</td>\n",
              "    </tr>\n",
              "    <tr>\n",
              "      <th>1</th>\n",
              "      <td>2014-09-18</td>\n",
              "      <td>456.859985</td>\n",
              "      <td>456.859985</td>\n",
              "      <td>413.104004</td>\n",
              "      <td>424.440002</td>\n",
              "      <td>424.440002</td>\n",
              "      <td>34483200</td>\n",
              "    </tr>\n",
              "    <tr>\n",
              "      <th>2</th>\n",
              "      <td>2014-09-19</td>\n",
              "      <td>424.102997</td>\n",
              "      <td>427.834991</td>\n",
              "      <td>384.532013</td>\n",
              "      <td>394.795990</td>\n",
              "      <td>394.795990</td>\n",
              "      <td>37919700</td>\n",
              "    </tr>\n",
              "    <tr>\n",
              "      <th>3</th>\n",
              "      <td>2014-09-20</td>\n",
              "      <td>394.673004</td>\n",
              "      <td>423.295990</td>\n",
              "      <td>389.882996</td>\n",
              "      <td>408.903992</td>\n",
              "      <td>408.903992</td>\n",
              "      <td>36863600</td>\n",
              "    </tr>\n",
              "    <tr>\n",
              "      <th>4</th>\n",
              "      <td>2014-09-21</td>\n",
              "      <td>408.084991</td>\n",
              "      <td>412.425995</td>\n",
              "      <td>393.181000</td>\n",
              "      <td>398.821014</td>\n",
              "      <td>398.821014</td>\n",
              "      <td>26580100</td>\n",
              "    </tr>\n",
              "    <tr>\n",
              "      <th>...</th>\n",
              "      <td>...</td>\n",
              "      <td>...</td>\n",
              "      <td>...</td>\n",
              "      <td>...</td>\n",
              "      <td>...</td>\n",
              "      <td>...</td>\n",
              "      <td>...</td>\n",
              "    </tr>\n",
              "    <tr>\n",
              "      <th>2750</th>\n",
              "      <td>2022-03-29</td>\n",
              "      <td>47100.437500</td>\n",
              "      <td>48022.289063</td>\n",
              "      <td>47100.437500</td>\n",
              "      <td>47465.730469</td>\n",
              "      <td>47465.730469</td>\n",
              "      <td>31397059069</td>\n",
              "    </tr>\n",
              "    <tr>\n",
              "      <th>2751</th>\n",
              "      <td>2022-03-30</td>\n",
              "      <td>47456.898438</td>\n",
              "      <td>47655.148438</td>\n",
              "      <td>46746.210938</td>\n",
              "      <td>47062.664063</td>\n",
              "      <td>47062.664063</td>\n",
              "      <td>29333883962</td>\n",
              "    </tr>\n",
              "    <tr>\n",
              "      <th>2752</th>\n",
              "      <td>2022-03-31</td>\n",
              "      <td>47062.148438</td>\n",
              "      <td>47512.027344</td>\n",
              "      <td>45390.539063</td>\n",
              "      <td>45538.675781</td>\n",
              "      <td>45538.675781</td>\n",
              "      <td>33327427106</td>\n",
              "    </tr>\n",
              "    <tr>\n",
              "      <th>2753</th>\n",
              "      <td>2022-04-01</td>\n",
              "      <td>45554.164063</td>\n",
              "      <td>46616.242188</td>\n",
              "      <td>44403.140625</td>\n",
              "      <td>46281.644531</td>\n",
              "      <td>46281.644531</td>\n",
              "      <td>38162644287</td>\n",
              "    </tr>\n",
              "    <tr>\n",
              "      <th>2754</th>\n",
              "      <td>2022-04-02</td>\n",
              "      <td>46168.101563</td>\n",
              "      <td>47003.429688</td>\n",
              "      <td>46157.980469</td>\n",
              "      <td>46508.101563</td>\n",
              "      <td>46508.101563</td>\n",
              "      <td>35441143808</td>\n",
              "    </tr>\n",
              "  </tbody>\n",
              "</table>\n",
              "<p>2755 rows × 7 columns</p>\n",
              "</div>\n",
              "      <button class=\"colab-df-convert\" onclick=\"convertToInteractive('df-223a6489-bc9e-4097-a6ed-7be5da487fae')\"\n",
              "              title=\"Convert this dataframe to an interactive table.\"\n",
              "              style=\"display:none;\">\n",
              "        \n",
              "  <svg xmlns=\"http://www.w3.org/2000/svg\" height=\"24px\"viewBox=\"0 0 24 24\"\n",
              "       width=\"24px\">\n",
              "    <path d=\"M0 0h24v24H0V0z\" fill=\"none\"/>\n",
              "    <path d=\"M18.56 5.44l.94 2.06.94-2.06 2.06-.94-2.06-.94-.94-2.06-.94 2.06-2.06.94zm-11 1L8.5 8.5l.94-2.06 2.06-.94-2.06-.94L8.5 2.5l-.94 2.06-2.06.94zm10 10l.94 2.06.94-2.06 2.06-.94-2.06-.94-.94-2.06-.94 2.06-2.06.94z\"/><path d=\"M17.41 7.96l-1.37-1.37c-.4-.4-.92-.59-1.43-.59-.52 0-1.04.2-1.43.59L10.3 9.45l-7.72 7.72c-.78.78-.78 2.05 0 2.83L4 21.41c.39.39.9.59 1.41.59.51 0 1.02-.2 1.41-.59l7.78-7.78 2.81-2.81c.8-.78.8-2.07 0-2.86zM5.41 20L4 18.59l7.72-7.72 1.47 1.35L5.41 20z\"/>\n",
              "  </svg>\n",
              "      </button>\n",
              "      \n",
              "  <style>\n",
              "    .colab-df-container {\n",
              "      display:flex;\n",
              "      flex-wrap:wrap;\n",
              "      gap: 12px;\n",
              "    }\n",
              "\n",
              "    .colab-df-convert {\n",
              "      background-color: #E8F0FE;\n",
              "      border: none;\n",
              "      border-radius: 50%;\n",
              "      cursor: pointer;\n",
              "      display: none;\n",
              "      fill: #1967D2;\n",
              "      height: 32px;\n",
              "      padding: 0 0 0 0;\n",
              "      width: 32px;\n",
              "    }\n",
              "\n",
              "    .colab-df-convert:hover {\n",
              "      background-color: #E2EBFA;\n",
              "      box-shadow: 0px 1px 2px rgba(60, 64, 67, 0.3), 0px 1px 3px 1px rgba(60, 64, 67, 0.15);\n",
              "      fill: #174EA6;\n",
              "    }\n",
              "\n",
              "    [theme=dark] .colab-df-convert {\n",
              "      background-color: #3B4455;\n",
              "      fill: #D2E3FC;\n",
              "    }\n",
              "\n",
              "    [theme=dark] .colab-df-convert:hover {\n",
              "      background-color: #434B5C;\n",
              "      box-shadow: 0px 1px 3px 1px rgba(0, 0, 0, 0.15);\n",
              "      filter: drop-shadow(0px 1px 2px rgba(0, 0, 0, 0.3));\n",
              "      fill: #FFFFFF;\n",
              "    }\n",
              "  </style>\n",
              "\n",
              "      <script>\n",
              "        const buttonEl =\n",
              "          document.querySelector('#df-223a6489-bc9e-4097-a6ed-7be5da487fae button.colab-df-convert');\n",
              "        buttonEl.style.display =\n",
              "          google.colab.kernel.accessAllowed ? 'block' : 'none';\n",
              "\n",
              "        async function convertToInteractive(key) {\n",
              "          const element = document.querySelector('#df-223a6489-bc9e-4097-a6ed-7be5da487fae');\n",
              "          const dataTable =\n",
              "            await google.colab.kernel.invokeFunction('convertToInteractive',\n",
              "                                                     [key], {});\n",
              "          if (!dataTable) return;\n",
              "\n",
              "          const docLinkHtml = 'Like what you see? Visit the ' +\n",
              "            '<a target=\"_blank\" href=https://colab.research.google.com/notebooks/data_table.ipynb>data table notebook</a>'\n",
              "            + ' to learn more about interactive tables.';\n",
              "          element.innerHTML = '';\n",
              "          dataTable['output_type'] = 'display_data';\n",
              "          await google.colab.output.renderOutput(dataTable, element);\n",
              "          const docLink = document.createElement('div');\n",
              "          docLink.innerHTML = docLinkHtml;\n",
              "          element.appendChild(docLink);\n",
              "        }\n",
              "      </script>\n",
              "    </div>\n",
              "  </div>\n",
              "  "
            ],
            "text/plain": [
              "            Date          Open          High           Low         Close  \\\n",
              "0     2014-09-17    465.864014    468.174011    452.421997    457.334015   \n",
              "1     2014-09-18    456.859985    456.859985    413.104004    424.440002   \n",
              "2     2014-09-19    424.102997    427.834991    384.532013    394.795990   \n",
              "3     2014-09-20    394.673004    423.295990    389.882996    408.903992   \n",
              "4     2014-09-21    408.084991    412.425995    393.181000    398.821014   \n",
              "...          ...           ...           ...           ...           ...   \n",
              "2750  2022-03-29  47100.437500  48022.289063  47100.437500  47465.730469   \n",
              "2751  2022-03-30  47456.898438  47655.148438  46746.210938  47062.664063   \n",
              "2752  2022-03-31  47062.148438  47512.027344  45390.539063  45538.675781   \n",
              "2753  2022-04-01  45554.164063  46616.242188  44403.140625  46281.644531   \n",
              "2754  2022-04-02  46168.101563  47003.429688  46157.980469  46508.101563   \n",
              "\n",
              "         Adj Close       Volume  \n",
              "0       457.334015     21056800  \n",
              "1       424.440002     34483200  \n",
              "2       394.795990     37919700  \n",
              "3       408.903992     36863600  \n",
              "4       398.821014     26580100  \n",
              "...            ...          ...  \n",
              "2750  47465.730469  31397059069  \n",
              "2751  47062.664063  29333883962  \n",
              "2752  45538.675781  33327427106  \n",
              "2753  46281.644531  38162644287  \n",
              "2754  46508.101563  35441143808  \n",
              "\n",
              "[2755 rows x 7 columns]"
            ]
          },
          "execution_count": 33,
          "metadata": {},
          "output_type": "execute_result"
        }
      ],
      "source": [
        "#READ IN THE DATASET\n",
        "filename = \"BTC-USD.csv\"\n",
        "df = pd.read_csv(join(path_prefix, filename))\n",
        "df"
      ]
    },
    {
      "cell_type": "code",
      "execution_count": null,
      "metadata": {
        "colab": {
          "base_uri": "https://localhost:8080/"
        },
        "id": "gBPwSEpN45ao",
        "outputId": "9b3dea62-be77-45ea-c2b7-cb342ff039ef"
      },
      "outputs": [
        {
          "data": {
            "text/plain": [
              "Index(['Date', 'Open', 'High', 'Low', 'Close', 'Adj Close', 'Volume'], dtype='object')"
            ]
          },
          "execution_count": 34,
          "metadata": {},
          "output_type": "execute_result"
        }
      ],
      "source": [
        "df.columns"
      ]
    },
    {
      "cell_type": "code",
      "execution_count": null,
      "metadata": {
        "colab": {
          "base_uri": "https://localhost:8080/"
        },
        "id": "FeUJ0BuA5AvY",
        "outputId": "3ec7e1c6-f22c-4be3-df01-c8e8e5bee667"
      },
      "outputs": [
        {
          "data": {
            "text/plain": [
              "Date          object\n",
              "Open         float64\n",
              "High         float64\n",
              "Low          float64\n",
              "Close        float64\n",
              "Adj Close    float64\n",
              "Volume         int64\n",
              "dtype: object"
            ]
          },
          "execution_count": 35,
          "metadata": {},
          "output_type": "execute_result"
        }
      ],
      "source": [
        "df.dtypes"
      ]
    },
    {
      "cell_type": "markdown",
      "metadata": {
        "id": "87rYjGhe5D4A"
      },
      "source": [
        "We added \"diffhl\" feature to compare the high and low values."
      ]
    },
    {
      "cell_type": "code",
      "execution_count": null,
      "metadata": {
        "id": "UQ2TXscV5Gm4"
      },
      "outputs": [],
      "source": [
        "df['diffhl'] = (df['High'] - df['Low'])"
      ]
    },
    {
      "cell_type": "markdown",
      "metadata": {
        "id": "KOssrrKx5Ii3"
      },
      "source": [
        "We added \"diffoc\" feature to compare the opening and closing values.\n"
      ]
    },
    {
      "cell_type": "code",
      "execution_count": null,
      "metadata": {
        "id": "MsueD_h85JW7"
      },
      "outputs": [],
      "source": [
        "df['diffoc'] = (df['Open']-df['Close'])"
      ]
    },
    {
      "cell_type": "markdown",
      "metadata": {
        "id": "Jw4aUsDh5MSr"
      },
      "source": [
        "to visualize price trends based on time series and volume we added \"average\" feature."
      ]
    },
    {
      "cell_type": "code",
      "execution_count": null,
      "metadata": {
        "id": "HQao-_jw5Ps5"
      },
      "outputs": [],
      "source": [
        "df['average'] = (df['High'] + df['Low'])/2"
      ]
    },
    {
      "cell_type": "markdown",
      "metadata": {
        "id": "AWPv3HyI5X9j"
      },
      "source": [
        "\n",
        "**<font color=\"openblue\">\n",
        "Visualize each feature separately based on time series\n",
        "<font/>**"
      ]
    },
    {
      "cell_type": "markdown",
      "metadata": {
        "id": "a1K8bjQk9aQo"
      },
      "source": [
        "### **Open** **vs** **Date**\n",
        "\n",
        "Around 2020-2021, the values of open, close, high and low increased significantly.  \n",
        "The plots below are all the same. Since all plots have the same shape, we can infer that they are correlated."
      ]
    },
    {
      "cell_type": "code",
      "execution_count": null,
      "metadata": {
        "colab": {
          "base_uri": "https://localhost:8080/",
          "height": 315
        },
        "id": "Ep6YWgTW5t92",
        "outputId": "f6defcbd-5eee-48d6-8623-be806521406e"
      },
      "outputs": [
        {
          "data": {
            "image/png": "[encoded data removed]",
            "text/plain": [
              "<Figure size 432x288 with 1 Axes>"
            ]
          },
          "metadata": {
            "needs_background": "light"
          },
          "output_type": "display_data"
        }
      ],
      "source": [
        "x_values = df['Date']\n",
        "y_values = df['Open']\n",
        "plt.plot(x_values, y_values,color=\"blue\",linestyle=\"-\",marker=\"\", linewidth = 0.7)\n",
        "plt.xticks(x_values[::365], rotation = 'vertical')\n",
        "plt.show()"
      ]
    },
    {
      "cell_type": "markdown",
      "metadata": {
        "id": "Cl-dVbKR-EkF"
      },
      "source": [
        "### **Close vs Date**"
      ]
    },
    {
      "cell_type": "code",
      "execution_count": null,
      "metadata": {
        "colab": {
          "base_uri": "https://localhost:8080/",
          "height": 315
        },
        "id": "SK5NaqTb-Bfv",
        "outputId": "73a6aae3-bdf3-4371-e09c-96a9db1b2c72"
      },
      "outputs": [
        {
          "data": {
            "image/png": "[encoded data removed]",
            "text/plain": [
              "<Figure size 432x288 with 1 Axes>"
            ]
          },
          "metadata": {
            "needs_background": "light"
          },
          "output_type": "display_data"
        }
      ],
      "source": [
        "x_values = df['Date']\n",
        "y_values = df['Close']\n",
        "plt.plot(x_values, y_values,color=\"red\",linestyle=\"-\",marker=\"\", linewidth = 0.7)\n",
        "plt.xticks(x_values[::365], rotation = 'vertical')\n",
        "plt.show()"
      ]
    },
    {
      "cell_type": "markdown",
      "metadata": {
        "id": "02UniN24-VPR"
      },
      "source": [
        "### **High vs Date**"
      ]
    },
    {
      "cell_type": "code",
      "execution_count": null,
      "metadata": {
        "colab": {
          "base_uri": "https://localhost:8080/",
          "height": 313
        },
        "id": "5wsLY6Di-ZeM",
        "outputId": "fe5c7230-4864-4392-eb30-1bedd1a30a34"
      },
      "outputs": [
        {
          "data": {
            "image/png": "[encoded data removed]",
            "text/plain": [
              "<Figure size 432x288 with 1 Axes>"
            ]
          },
          "metadata": {
            "needs_background": "light"
          },
          "output_type": "display_data"
        }
      ],
      "source": [
        "x_values = df['Date']\n",
        "y_values = df['High']\n",
        "plt.plot(x_values, y_values,color=\"purple\",linestyle=\"-\",marker=\"\", linewidth = 0.7)\n",
        "plt.xticks(x_values[::365], rotation = 'vertical')\n",
        "plt.show()"
      ]
    },
    {
      "cell_type": "markdown",
      "metadata": {
        "id": "dr7NtMu8-ep2"
      },
      "source": [
        "### **Low vs Date**"
      ]
    },
    {
      "cell_type": "code",
      "execution_count": null,
      "metadata": {
        "colab": {
          "base_uri": "https://localhost:8080/",
          "height": 313
        },
        "id": "-SuU655Q-uqE",
        "outputId": "e9bd11d0-ac78-4fd4-e6f4-08374c6a3304"
      },
      "outputs": [
        {
          "data": {
            "image/png": "[encoded data removed]",
            "text/plain": [
              "<Figure size 432x288 with 1 Axes>"
            ]
          },
          "metadata": {
            "needs_background": "light"
          },
          "output_type": "display_data"
        }
      ],
      "source": [
        "x_values = df['Date']\n",
        "y_values = df['Low']\n",
        "plt.plot(x_values, y_values,color=\"green\",linestyle=\"-\",marker=\"\", linewidth = 0.7)\n",
        "plt.xticks(x_values[::365], rotation = 'vertical')\n",
        "plt.show()"
      ]
    },
    {
      "cell_type": "markdown",
      "metadata": {
        "id": "HNjavIhG-kLO"
      },
      "source": [
        "### **Adj Close vs Date**"
      ]
    },
    {
      "cell_type": "code",
      "execution_count": null,
      "metadata": {
        "colab": {
          "base_uri": "https://localhost:8080/",
          "height": 315
        },
        "id": "CoggyiAi-xtG",
        "outputId": "a3c75062-c3f7-4d23-f7b4-b1cf3a145398"
      },
      "outputs": [
        {
          "data": {
            "image/png": "[encoded data removed]",
            "text/plain": [
              "<Figure size 432x288 with 1 Axes>"
            ]
          },
          "metadata": {
            "needs_background": "light"
          },
          "output_type": "display_data"
        }
      ],
      "source": [
        "x_values = df['Date']\n",
        "y_values = df['Adj Close']\n",
        "plt.plot(x_values, y_values,color=\"black\",linestyle=\"-\",marker=\"\", linewidth = 0.7)\n",
        "plt.xticks(x_values[::365], rotation = 'vertical')\n",
        "plt.show()"
      ]
    },
    {
      "cell_type": "markdown",
      "metadata": {
        "id": "lwMEWPPM_mdW"
      },
      "source": [
        "**<font color=\"openblue\">\n",
        "Visualize each feature separately based on time series\n",
        "<font/>**"
      ]
    },
    {
      "cell_type": "markdown",
      "metadata": {
        "id": "aqVuvOdCB5oK"
      },
      "source": [
        "The histograms below indicate distributions of each numerical variable in our dataset."
      ]
    },
    {
      "cell_type": "code",
      "execution_count": null,
      "metadata": {
        "colab": {
          "base_uri": "https://localhost:8080/",
          "height": 663
        },
        "id": "GOLFw3znEwqm",
        "outputId": "c1cd7219-0526-4bf7-a2ae-36f1ee9dcb64"
      },
      "outputs": [
        {
          "data": {
            "image/png": "[encoded data removed]",
            "text/plain": [
              "<Figure size 1296x720 with 6 Axes>"
            ]
          },
          "metadata": {
            "needs_background": "light"
          },
          "output_type": "display_data"
        }
      ],
      "source": [
        "Open = df[\"Open\"]\n",
        "Close = df[\"Close\"]\n",
        "High = df[\"High\"]\n",
        "Low = df[\"Low\"]\n",
        "Diffhl = df[\"diffhl\"]\n",
        "Diffoc = df[\"diffoc\"]\n",
        "Date = df[\"Date\"]\n",
        "\n",
        "\n",
        "n_bins = 100\n",
        "\n",
        "fig, ax = plt.subplots(2, 3, figsize=(18, 10))\n",
        "fig.suptitle('Features of Dataset', fontsize=20)\n",
        "#Rank\tYear\tRuntime (Minutes)\tRating\tVotes\tRevenue (Millions)\tMetascore\timdbID\tmovieLensID\n",
        "\n",
        "ax[0][0].hist(Open, n_bins)\n",
        "ax[0][0].set_title(\"Open\")\n",
        "ax[0][1].hist(Close, n_bins)\n",
        "ax[0][1].set_title(\"Close\")\n",
        "ax[0][2].hist(High, n_bins)\n",
        "ax[0][2].set_title(\"High\")\n",
        "ax[1][0].hist(Low, n_bins)\n",
        "ax[1][0].set_title(\"Low\")\n",
        "ax[1][1].hist(Diffhl, n_bins)\n",
        "ax[1][1].set_title(\"Diffhl\")\n",
        "ax[1][2].hist(Diffoc, n_bins)\n",
        "ax[1][2].set_title(\"Diffoc\")\n",
        "\n",
        "\n",
        "\n",
        "plt.show()"
      ]
    },
    {
      "cell_type": "code",
      "execution_count": null,
      "metadata": {
        "colab": {
          "base_uri": "https://localhost:8080/",
          "height": 431
        },
        "id": "7e7pK-YwDiuB",
        "outputId": "661b4b52-37a2-410f-f84e-b58fe3bd33e9"
      },
      "outputs": [
        {
          "data": {
            "image/png": "[encoded data removed]",
            "text/plain": [
              "<Figure size 1008x432 with 3 Axes>"
            ]
          },
          "metadata": {
            "needs_background": "light"
          },
          "output_type": "display_data"
        }
      ],
      "source": [
        "import math\n",
        "Open_value = df['High']\n",
        "Close_value = df['Low']   \n",
        "\n",
        "fig, ax = plt.subplots(1, 3, figsize=(14,6))  # a figure with 1 row and 3 columns\n",
        "                                              # ax variable stores a list with 3 elements\n",
        "                                              # each element in ax correspons to chart\n",
        "        \n",
        "Open_value.plot(kind=\"hist\", ax=ax[0], bins=20, label=\"High Values\", color=\"c\", density=True)\n",
        "ax[0].set_title(\"High Values with respect to time\")\n",
        "\n",
        "Close_value.plot(kind=\"hist\", ax=ax[1], bins=20, label=\"Low Values\", color=\"m\", density=True)\n",
        "ax[1].set_title(\"Low Values with respect to time\")\n",
        "\n",
        "sns.kdeplot(Open_value, shade=True, label=\"High values\", ax=ax[2], color=\"c\")\n",
        "sns.kdeplot(Close_value, shade=True, label=\"Low Values with respect to time\", ax=ax[2], color=\"m\")\n",
        "ax[2].set_title(\"Comparison with KDE\")\n",
        "\n",
        "plt.suptitle(\"High-Low Value Distribution\")\n",
        "plt.show()"
      ]
    },
    {
      "cell_type": "code",
      "execution_count": null,
      "metadata": {
        "colab": {
          "base_uri": "https://localhost:8080/",
          "height": 659
        },
        "id": "3hdDWGkP4rO3",
        "outputId": "1640e0da-b55d-40a3-dde6-58fb4e574621"
      },
      "outputs": [
        {
          "data": {
            "text/html": [
              "\n",
              "  <div id=\"df-b8b22dee-1493-4497-a2d2-e5c0d89b99b1\">\n",
              "    <div class=\"colab-df-container\">\n",
              "      <div>\n",
              "<style scoped>\n",
              "    .dataframe tbody tr th:only-of-type {\n",
              "        vertical-align: middle;\n",
              "    }\n",
              "\n",
              "    .dataframe tbody tr th {\n",
              "        vertical-align: top;\n",
              "    }\n",
              "\n",
              "    .dataframe thead th {\n",
              "        text-align: right;\n",
              "    }\n",
              "</style>\n",
              "<table border=\"1\" class=\"dataframe\">\n",
              "  <thead>\n",
              "    <tr style=\"text-align: right;\">\n",
              "      <th></th>\n",
              "      <th>date</th>\n",
              "      <th>open</th>\n",
              "      <th>high</th>\n",
              "      <th>low</th>\n",
              "      <th>close</th>\n",
              "      <th>volume</th>\n",
              "      <th>close time</th>\n",
              "      <th>quote asset volume</th>\n",
              "      <th>number of trades</th>\n",
              "      <th>taker buy base asset</th>\n",
              "      <th>taker buy quote asset volume</th>\n",
              "      <th>ignore</th>\n",
              "    </tr>\n",
              "  </thead>\n",
              "  <tbody>\n",
              "    <tr>\n",
              "      <th>0</th>\n",
              "      <td>2017-08-17</td>\n",
              "      <td>4261.48</td>\n",
              "      <td>4485.39</td>\n",
              "      <td>4200.74</td>\n",
              "      <td>4285.08</td>\n",
              "      <td>795.150377</td>\n",
              "      <td>1503014399999</td>\n",
              "      <td>3.454770e+06</td>\n",
              "      <td>3427</td>\n",
              "      <td>616.248541</td>\n",
              "      <td>2.678216e+06</td>\n",
              "      <td>8733.911395</td>\n",
              "    </tr>\n",
              "    <tr>\n",
              "      <th>1</th>\n",
              "      <td>2017-08-18</td>\n",
              "      <td>4285.08</td>\n",
              "      <td>4371.52</td>\n",
              "      <td>3938.77</td>\n",
              "      <td>4108.37</td>\n",
              "      <td>1199.888264</td>\n",
              "      <td>1503100799999</td>\n",
              "      <td>5.086958e+06</td>\n",
              "      <td>5233</td>\n",
              "      <td>972.868710</td>\n",
              "      <td>4.129123e+06</td>\n",
              "      <td>9384.141409</td>\n",
              "    </tr>\n",
              "    <tr>\n",
              "      <th>2</th>\n",
              "      <td>2017-08-19</td>\n",
              "      <td>4108.37</td>\n",
              "      <td>4184.69</td>\n",
              "      <td>3850.00</td>\n",
              "      <td>4139.98</td>\n",
              "      <td>381.309763</td>\n",
              "      <td>1503187199999</td>\n",
              "      <td>1.549484e+06</td>\n",
              "      <td>2153</td>\n",
              "      <td>274.336042</td>\n",
              "      <td>1.118002e+06</td>\n",
              "      <td>9184.085529</td>\n",
              "    </tr>\n",
              "    <tr>\n",
              "      <th>3</th>\n",
              "      <td>2017-08-20</td>\n",
              "      <td>4120.98</td>\n",
              "      <td>4211.08</td>\n",
              "      <td>4032.62</td>\n",
              "      <td>4086.29</td>\n",
              "      <td>467.083022</td>\n",
              "      <td>1503273599999</td>\n",
              "      <td>1.930364e+06</td>\n",
              "      <td>2321</td>\n",
              "      <td>376.795947</td>\n",
              "      <td>1.557401e+06</td>\n",
              "      <td>10125.414084</td>\n",
              "    </tr>\n",
              "    <tr>\n",
              "      <th>4</th>\n",
              "      <td>2017-08-21</td>\n",
              "      <td>4069.13</td>\n",
              "      <td>4119.62</td>\n",
              "      <td>3911.79</td>\n",
              "      <td>4016.00</td>\n",
              "      <td>691.743060</td>\n",
              "      <td>1503359999999</td>\n",
              "      <td>2.797232e+06</td>\n",
              "      <td>3972</td>\n",
              "      <td>557.356107</td>\n",
              "      <td>2.255663e+06</td>\n",
              "      <td>11706.769970</td>\n",
              "    </tr>\n",
              "    <tr>\n",
              "      <th>...</th>\n",
              "      <td>...</td>\n",
              "      <td>...</td>\n",
              "      <td>...</td>\n",
              "      <td>...</td>\n",
              "      <td>...</td>\n",
              "      <td>...</td>\n",
              "      <td>...</td>\n",
              "      <td>...</td>\n",
              "      <td>...</td>\n",
              "      <td>...</td>\n",
              "      <td>...</td>\n",
              "      <td>...</td>\n",
              "    </tr>\n",
              "    <tr>\n",
              "      <th>1426</th>\n",
              "      <td>2021-07-13</td>\n",
              "      <td>33086.94</td>\n",
              "      <td>33340.00</td>\n",
              "      <td>32202.25</td>\n",
              "      <td>32729.77</td>\n",
              "      <td>41126.361008</td>\n",
              "      <td>1626220799999</td>\n",
              "      <td>1.348583e+09</td>\n",
              "      <td>956053</td>\n",
              "      <td>19588.278507</td>\n",
              "      <td>6.425767e+08</td>\n",
              "      <td>0.000000</td>\n",
              "    </tr>\n",
              "    <tr>\n",
              "      <th>1427</th>\n",
              "      <td>2021-07-14</td>\n",
              "      <td>32729.12</td>\n",
              "      <td>33114.03</td>\n",
              "      <td>31550.00</td>\n",
              "      <td>32820.02</td>\n",
              "      <td>46777.823484</td>\n",
              "      <td>1626307199999</td>\n",
              "      <td>1.515692e+09</td>\n",
              "      <td>1123129</td>\n",
              "      <td>22516.485719</td>\n",
              "      <td>7.300091e+08</td>\n",
              "      <td>0.000000</td>\n",
              "    </tr>\n",
              "    <tr>\n",
              "      <th>1428</th>\n",
              "      <td>2021-07-15</td>\n",
              "      <td>32820.03</td>\n",
              "      <td>33185.25</td>\n",
              "      <td>31133.00</td>\n",
              "      <td>31880.00</td>\n",
              "      <td>51639.576353</td>\n",
              "      <td>1626393599999</td>\n",
              "      <td>1.652078e+09</td>\n",
              "      <td>1099367</td>\n",
              "      <td>24866.405787</td>\n",
              "      <td>7.958310e+08</td>\n",
              "      <td>0.000000</td>\n",
              "    </tr>\n",
              "    <tr>\n",
              "      <th>1429</th>\n",
              "      <td>2021-07-16</td>\n",
              "      <td>31874.49</td>\n",
              "      <td>32249.18</td>\n",
              "      <td>31020.00</td>\n",
              "      <td>31383.87</td>\n",
              "      <td>48499.864154</td>\n",
              "      <td>1626479999999</td>\n",
              "      <td>1.538343e+09</td>\n",
              "      <td>1067591</td>\n",
              "      <td>23963.744568</td>\n",
              "      <td>7.602747e+08</td>\n",
              "      <td>0.000000</td>\n",
              "    </tr>\n",
              "    <tr>\n",
              "      <th>1430</th>\n",
              "      <td>2021-07-17</td>\n",
              "      <td>31383.86</td>\n",
              "      <td>31642.64</td>\n",
              "      <td>31164.31</td>\n",
              "      <td>31360.39</td>\n",
              "      <td>3338.693773</td>\n",
              "      <td>1626566399999</td>\n",
              "      <td>1.047795e+08</td>\n",
              "      <td>77325</td>\n",
              "      <td>1553.823129</td>\n",
              "      <td>4.879007e+07</td>\n",
              "      <td>0.000000</td>\n",
              "    </tr>\n",
              "  </tbody>\n",
              "</table>\n",
              "<p>1431 rows × 12 columns</p>\n",
              "</div>\n",
              "      <button class=\"colab-df-convert\" onclick=\"convertToInteractive('df-b8b22dee-1493-4497-a2d2-e5c0d89b99b1')\"\n",
              "              title=\"Convert this dataframe to an interactive table.\"\n",
              "              style=\"display:none;\">\n",
              "        \n",
              "  <svg xmlns=\"http://www.w3.org/2000/svg\" height=\"24px\"viewBox=\"0 0 24 24\"\n",
              "       width=\"24px\">\n",
              "    <path d=\"M0 0h24v24H0V0z\" fill=\"none\"/>\n",
              "    <path d=\"M18.56 5.44l.94 2.06.94-2.06 2.06-.94-2.06-.94-.94-2.06-.94 2.06-2.06.94zm-11 1L8.5 8.5l.94-2.06 2.06-.94-2.06-.94L8.5 2.5l-.94 2.06-2.06.94zm10 10l.94 2.06.94-2.06 2.06-.94-2.06-.94-.94-2.06-.94 2.06-2.06.94z\"/><path d=\"M17.41 7.96l-1.37-1.37c-.4-.4-.92-.59-1.43-.59-.52 0-1.04.2-1.43.59L10.3 9.45l-7.72 7.72c-.78.78-.78 2.05 0 2.83L4 21.41c.39.39.9.59 1.41.59.51 0 1.02-.2 1.41-.59l7.78-7.78 2.81-2.81c.8-.78.8-2.07 0-2.86zM5.41 20L4 18.59l7.72-7.72 1.47 1.35L5.41 20z\"/>\n",
              "  </svg>\n",
              "      </button>\n",
              "      \n",
              "  <style>\n",
              "    .colab-df-container {\n",
              "      display:flex;\n",
              "      flex-wrap:wrap;\n",
              "      gap: 12px;\n",
              "    }\n",
              "\n",
              "    .colab-df-convert {\n",
              "      background-color: #E8F0FE;\n",
              "      border: none;\n",
              "      border-radius: 50%;\n",
              "      cursor: pointer;\n",
              "      display: none;\n",
              "      fill: #1967D2;\n",
              "      height: 32px;\n",
              "      padding: 0 0 0 0;\n",
              "      width: 32px;\n",
              "    }\n",
              "\n",
              "    .colab-df-convert:hover {\n",
              "      background-color: #E2EBFA;\n",
              "      box-shadow: 0px 1px 2px rgba(60, 64, 67, 0.3), 0px 1px 3px 1px rgba(60, 64, 67, 0.15);\n",
              "      fill: #174EA6;\n",
              "    }\n",
              "\n",
              "    [theme=dark] .colab-df-convert {\n",
              "      background-color: #3B4455;\n",
              "      fill: #D2E3FC;\n",
              "    }\n",
              "\n",
              "    [theme=dark] .colab-df-convert:hover {\n",
              "      background-color: #434B5C;\n",
              "      box-shadow: 0px 1px 3px 1px rgba(0, 0, 0, 0.15);\n",
              "      filter: drop-shadow(0px 1px 2px rgba(0, 0, 0, 0.3));\n",
              "      fill: #FFFFFF;\n",
              "    }\n",
              "  </style>\n",
              "\n",
              "      <script>\n",
              "        const buttonEl =\n",
              "          document.querySelector('#df-b8b22dee-1493-4497-a2d2-e5c0d89b99b1 button.colab-df-convert');\n",
              "        buttonEl.style.display =\n",
              "          google.colab.kernel.accessAllowed ? 'block' : 'none';\n",
              "\n",
              "        async function convertToInteractive(key) {\n",
              "          const element = document.querySelector('#df-b8b22dee-1493-4497-a2d2-e5c0d89b99b1');\n",
              "          const dataTable =\n",
              "            await google.colab.kernel.invokeFunction('convertToInteractive',\n",
              "                                                     [key], {});\n",
              "          if (!dataTable) return;\n",
              "\n",
              "          const docLinkHtml = 'Like what you see? Visit the ' +\n",
              "            '<a target=\"_blank\" href=https://colab.research.google.com/notebooks/data_table.ipynb>data table notebook</a>'\n",
              "            + ' to learn more about interactive tables.';\n",
              "          element.innerHTML = '';\n",
              "          dataTable['output_type'] = 'display_data';\n",
              "          await google.colab.output.renderOutput(dataTable, element);\n",
              "          const docLink = document.createElement('div');\n",
              "          docLink.innerHTML = docLinkHtml;\n",
              "          element.appendChild(docLink);\n",
              "        }\n",
              "      </script>\n",
              "    </div>\n",
              "  </div>\n",
              "  "
            ],
            "text/plain": [
              "            date      open      high       low     close        volume  \\\n",
              "0     2017-08-17   4261.48   4485.39   4200.74   4285.08    795.150377   \n",
              "1     2017-08-18   4285.08   4371.52   3938.77   4108.37   1199.888264   \n",
              "2     2017-08-19   4108.37   4184.69   3850.00   4139.98    381.309763   \n",
              "3     2017-08-20   4120.98   4211.08   4032.62   4086.29    467.083022   \n",
              "4     2017-08-21   4069.13   4119.62   3911.79   4016.00    691.743060   \n",
              "...          ...       ...       ...       ...       ...           ...   \n",
              "1426  2021-07-13  33086.94  33340.00  32202.25  32729.77  41126.361008   \n",
              "1427  2021-07-14  32729.12  33114.03  31550.00  32820.02  46777.823484   \n",
              "1428  2021-07-15  32820.03  33185.25  31133.00  31880.00  51639.576353   \n",
              "1429  2021-07-16  31874.49  32249.18  31020.00  31383.87  48499.864154   \n",
              "1430  2021-07-17  31383.86  31642.64  31164.31  31360.39   3338.693773   \n",
              "\n",
              "         close time  quote asset volume  number of trades  \\\n",
              "0     1503014399999        3.454770e+06              3427   \n",
              "1     1503100799999        5.086958e+06              5233   \n",
              "2     1503187199999        1.549484e+06              2153   \n",
              "3     1503273599999        1.930364e+06              2321   \n",
              "4     1503359999999        2.797232e+06              3972   \n",
              "...             ...                 ...               ...   \n",
              "1426  1626220799999        1.348583e+09            956053   \n",
              "1427  1626307199999        1.515692e+09           1123129   \n",
              "1428  1626393599999        1.652078e+09           1099367   \n",
              "1429  1626479999999        1.538343e+09           1067591   \n",
              "1430  1626566399999        1.047795e+08             77325   \n",
              "\n",
              "      taker buy base asset  taker buy quote asset volume        ignore  \n",
              "0               616.248541                  2.678216e+06   8733.911395  \n",
              "1               972.868710                  4.129123e+06   9384.141409  \n",
              "2               274.336042                  1.118002e+06   9184.085529  \n",
              "3               376.795947                  1.557401e+06  10125.414084  \n",
              "4               557.356107                  2.255663e+06  11706.769970  \n",
              "...                    ...                           ...           ...  \n",
              "1426          19588.278507                  6.425767e+08      0.000000  \n",
              "1427          22516.485719                  7.300091e+08      0.000000  \n",
              "1428          24866.405787                  7.958310e+08      0.000000  \n",
              "1429          23963.744568                  7.602747e+08      0.000000  \n",
              "1430           1553.823129                  4.879007e+07      0.000000  \n",
              "\n",
              "[1431 rows x 12 columns]"
            ]
          },
          "execution_count": 46,
          "metadata": {},
          "output_type": "execute_result"
        }
      ],
      "source": [
        "filename = \"btc_data_bi_day.csv\"\n",
        "df2 = pd.read_csv(join(path_prefix, filename))\n",
        "df2"
      ]
    },
    {
      "cell_type": "code",
      "execution_count": null,
      "metadata": {
        "colab": {
          "base_uri": "https://localhost:8080/"
        },
        "id": "gNe1ae0nQ6Ug",
        "outputId": "3eedfa53-a53e-4b92-b5da-aa0007c461f6"
      },
      "outputs": [
        {
          "data": {
            "text/plain": [
              "date                             object\n",
              "open                            float64\n",
              "high                            float64\n",
              "low                             float64\n",
              "close                           float64\n",
              "volume                          float64\n",
              "close time                        int64\n",
              "quote asset volume              float64\n",
              "number of trades                  int64\n",
              "taker buy base asset            float64\n",
              "taker buy quote asset volume    float64\n",
              "ignore                          float64\n",
              "dtype: object"
            ]
          },
          "execution_count": 47,
          "metadata": {},
          "output_type": "execute_result"
        }
      ],
      "source": [
        "df2.dtypes"
      ]
    },
    {
      "cell_type": "code",
      "execution_count": null,
      "metadata": {
        "id": "nwyVmjsz4kTG"
      },
      "outputs": [],
      "source": [
        "from datetime import datetime\n",
        "df2['date'] = pd.to_datetime(df2['date'])\n",
        "df2[\"date\"] = df2[\"date\"].dt.strftime(\"%Y-%m-%d\")\n",
        "df = pd.merge(df,df2[[\"date\", \"number of trades\"]] , left_on= 'Date' , right_on = 'date', how='left' )\n",
        "df = df.dropna(how =\"any\", axis=\"index\")"
      ]
    },
    {
      "cell_type": "code",
      "execution_count": null,
      "metadata": {
        "colab": {
          "base_uri": "https://localhost:8080/",
          "height": 424
        },
        "id": "fDbJGEKKUGjs",
        "outputId": "98f08b8e-cc01-4aff-9f61-7038368ed4c5"
      },
      "outputs": [
        {
          "data": {
            "text/html": [
              "\n",
              "  <div id=\"df-1e205532-6a14-4078-8351-0e1472537c3d\">\n",
              "    <div class=\"colab-df-container\">\n",
              "      <div>\n",
              "<style scoped>\n",
              "    .dataframe tbody tr th:only-of-type {\n",
              "        vertical-align: middle;\n",
              "    }\n",
              "\n",
              "    .dataframe tbody tr th {\n",
              "        vertical-align: top;\n",
              "    }\n",
              "\n",
              "    .dataframe thead th {\n",
              "        text-align: right;\n",
              "    }\n",
              "</style>\n",
              "<table border=\"1\" class=\"dataframe\">\n",
              "  <thead>\n",
              "    <tr style=\"text-align: right;\">\n",
              "      <th></th>\n",
              "      <th>Date</th>\n",
              "      <th>Open</th>\n",
              "      <th>High</th>\n",
              "      <th>Low</th>\n",
              "      <th>Close</th>\n",
              "      <th>Adj Close</th>\n",
              "      <th>Volume</th>\n",
              "      <th>diffhl</th>\n",
              "      <th>diffoc</th>\n",
              "      <th>average</th>\n",
              "      <th>number of trades</th>\n",
              "    </tr>\n",
              "  </thead>\n",
              "  <tbody>\n",
              "    <tr>\n",
              "      <th>1065</th>\n",
              "      <td>2017-08-17</td>\n",
              "      <td>4384.439941</td>\n",
              "      <td>4484.700195</td>\n",
              "      <td>4243.709961</td>\n",
              "      <td>4331.689941</td>\n",
              "      <td>4331.689941</td>\n",
              "      <td>2553359872</td>\n",
              "      <td>240.990234</td>\n",
              "      <td>52.750000</td>\n",
              "      <td>4364.205078</td>\n",
              "      <td>3427.0</td>\n",
              "    </tr>\n",
              "    <tr>\n",
              "      <th>1066</th>\n",
              "      <td>2017-08-18</td>\n",
              "      <td>4324.339844</td>\n",
              "      <td>4370.129883</td>\n",
              "      <td>4015.399902</td>\n",
              "      <td>4160.620117</td>\n",
              "      <td>4160.620117</td>\n",
              "      <td>2941710080</td>\n",
              "      <td>354.729981</td>\n",
              "      <td>163.719727</td>\n",
              "      <td>4192.764892</td>\n",
              "      <td>5233.0</td>\n",
              "    </tr>\n",
              "    <tr>\n",
              "      <th>1067</th>\n",
              "      <td>2017-08-19</td>\n",
              "      <td>4137.750000</td>\n",
              "      <td>4243.259766</td>\n",
              "      <td>3970.550049</td>\n",
              "      <td>4193.700195</td>\n",
              "      <td>4193.700195</td>\n",
              "      <td>2975820032</td>\n",
              "      <td>272.709717</td>\n",
              "      <td>-55.950195</td>\n",
              "      <td>4106.904908</td>\n",
              "      <td>2153.0</td>\n",
              "    </tr>\n",
              "    <tr>\n",
              "      <th>1068</th>\n",
              "      <td>2017-08-20</td>\n",
              "      <td>4189.310059</td>\n",
              "      <td>4196.290039</td>\n",
              "      <td>4069.879883</td>\n",
              "      <td>4087.659912</td>\n",
              "      <td>4087.659912</td>\n",
              "      <td>2109769984</td>\n",
              "      <td>126.410156</td>\n",
              "      <td>101.650147</td>\n",
              "      <td>4133.084961</td>\n",
              "      <td>2321.0</td>\n",
              "    </tr>\n",
              "    <tr>\n",
              "      <th>1069</th>\n",
              "      <td>2017-08-21</td>\n",
              "      <td>4090.479980</td>\n",
              "      <td>4109.140137</td>\n",
              "      <td>3988.600098</td>\n",
              "      <td>4001.739990</td>\n",
              "      <td>4001.739990</td>\n",
              "      <td>2800890112</td>\n",
              "      <td>120.540039</td>\n",
              "      <td>88.739990</td>\n",
              "      <td>4048.870118</td>\n",
              "      <td>3972.0</td>\n",
              "    </tr>\n",
              "    <tr>\n",
              "      <th>...</th>\n",
              "      <td>...</td>\n",
              "      <td>...</td>\n",
              "      <td>...</td>\n",
              "      <td>...</td>\n",
              "      <td>...</td>\n",
              "      <td>...</td>\n",
              "      <td>...</td>\n",
              "      <td>...</td>\n",
              "      <td>...</td>\n",
              "      <td>...</td>\n",
              "      <td>...</td>\n",
              "    </tr>\n",
              "    <tr>\n",
              "      <th>2491</th>\n",
              "      <td>2021-07-13</td>\n",
              "      <td>33125.468750</td>\n",
              "      <td>33327.101563</td>\n",
              "      <td>32261.419922</td>\n",
              "      <td>32702.025391</td>\n",
              "      <td>32702.025391</td>\n",
              "      <td>19120856669</td>\n",
              "      <td>1065.681641</td>\n",
              "      <td>423.443359</td>\n",
              "      <td>32794.260743</td>\n",
              "      <td>956053.0</td>\n",
              "    </tr>\n",
              "    <tr>\n",
              "      <th>2492</th>\n",
              "      <td>2021-07-14</td>\n",
              "      <td>32723.845703</td>\n",
              "      <td>33061.398438</td>\n",
              "      <td>31639.125000</td>\n",
              "      <td>32822.347656</td>\n",
              "      <td>32822.347656</td>\n",
              "      <td>21376531210</td>\n",
              "      <td>1422.273438</td>\n",
              "      <td>-98.501953</td>\n",
              "      <td>32350.261719</td>\n",
              "      <td>1123129.0</td>\n",
              "    </tr>\n",
              "    <tr>\n",
              "      <th>2493</th>\n",
              "      <td>2021-07-15</td>\n",
              "      <td>32827.875000</td>\n",
              "      <td>33159.640625</td>\n",
              "      <td>31175.708984</td>\n",
              "      <td>31780.730469</td>\n",
              "      <td>31780.730469</td>\n",
              "      <td>21300524237</td>\n",
              "      <td>1983.931641</td>\n",
              "      <td>1047.144531</td>\n",
              "      <td>32167.674804</td>\n",
              "      <td>1099367.0</td>\n",
              "    </tr>\n",
              "    <tr>\n",
              "      <th>2494</th>\n",
              "      <td>2021-07-16</td>\n",
              "      <td>31841.550781</td>\n",
              "      <td>32218.406250</td>\n",
              "      <td>31100.673828</td>\n",
              "      <td>31421.539063</td>\n",
              "      <td>31421.539063</td>\n",
              "      <td>23699476918</td>\n",
              "      <td>1117.732422</td>\n",
              "      <td>420.011718</td>\n",
              "      <td>31659.540039</td>\n",
              "      <td>1067591.0</td>\n",
              "    </tr>\n",
              "    <tr>\n",
              "      <th>2495</th>\n",
              "      <td>2021-07-17</td>\n",
              "      <td>31397.308594</td>\n",
              "      <td>31935.945313</td>\n",
              "      <td>31223.990234</td>\n",
              "      <td>31533.068359</td>\n",
              "      <td>31533.068359</td>\n",
              "      <td>18895018942</td>\n",
              "      <td>711.955079</td>\n",
              "      <td>-135.759765</td>\n",
              "      <td>31579.967774</td>\n",
              "      <td>77325.0</td>\n",
              "    </tr>\n",
              "  </tbody>\n",
              "</table>\n",
              "<p>1431 rows × 11 columns</p>\n",
              "</div>\n",
              "      <button class=\"colab-df-convert\" onclick=\"convertToInteractive('df-1e205532-6a14-4078-8351-0e1472537c3d')\"\n",
              "              title=\"Convert this dataframe to an interactive table.\"\n",
              "              style=\"display:none;\">\n",
              "        \n",
              "  <svg xmlns=\"http://www.w3.org/2000/svg\" height=\"24px\"viewBox=\"0 0 24 24\"\n",
              "       width=\"24px\">\n",
              "    <path d=\"M0 0h24v24H0V0z\" fill=\"none\"/>\n",
              "    <path d=\"M18.56 5.44l.94 2.06.94-2.06 2.06-.94-2.06-.94-.94-2.06-.94 2.06-2.06.94zm-11 1L8.5 8.5l.94-2.06 2.06-.94-2.06-.94L8.5 2.5l-.94 2.06-2.06.94zm10 10l.94 2.06.94-2.06 2.06-.94-2.06-.94-.94-2.06-.94 2.06-2.06.94z\"/><path d=\"M17.41 7.96l-1.37-1.37c-.4-.4-.92-.59-1.43-.59-.52 0-1.04.2-1.43.59L10.3 9.45l-7.72 7.72c-.78.78-.78 2.05 0 2.83L4 21.41c.39.39.9.59 1.41.59.51 0 1.02-.2 1.41-.59l7.78-7.78 2.81-2.81c.8-.78.8-2.07 0-2.86zM5.41 20L4 18.59l7.72-7.72 1.47 1.35L5.41 20z\"/>\n",
              "  </svg>\n",
              "      </button>\n",
              "      \n",
              "  <style>\n",
              "    .colab-df-container {\n",
              "      display:flex;\n",
              "      flex-wrap:wrap;\n",
              "      gap: 12px;\n",
              "    }\n",
              "\n",
              "    .colab-df-convert {\n",
              "      background-color: #E8F0FE;\n",
              "      border: none;\n",
              "      border-radius: 50%;\n",
              "      cursor: pointer;\n",
              "      display: none;\n",
              "      fill: #1967D2;\n",
              "      height: 32px;\n",
              "      padding: 0 0 0 0;\n",
              "      width: 32px;\n",
              "    }\n",
              "\n",
              "    .colab-df-convert:hover {\n",
              "      background-color: #E2EBFA;\n",
              "      box-shadow: 0px 1px 2px rgba(60, 64, 67, 0.3), 0px 1px 3px 1px rgba(60, 64, 67, 0.15);\n",
              "      fill: #174EA6;\n",
              "    }\n",
              "\n",
              "    [theme=dark] .colab-df-convert {\n",
              "      background-color: #3B4455;\n",
              "      fill: #D2E3FC;\n",
              "    }\n",
              "\n",
              "    [theme=dark] .colab-df-convert:hover {\n",
              "      background-color: #434B5C;\n",
              "      box-shadow: 0px 1px 3px 1px rgba(0, 0, 0, 0.15);\n",
              "      filter: drop-shadow(0px 1px 2px rgba(0, 0, 0, 0.3));\n",
              "      fill: #FFFFFF;\n",
              "    }\n",
              "  </style>\n",
              "\n",
              "      <script>\n",
              "        const buttonEl =\n",
              "          document.querySelector('#df-1e205532-6a14-4078-8351-0e1472537c3d button.colab-df-convert');\n",
              "        buttonEl.style.display =\n",
              "          google.colab.kernel.accessAllowed ? 'block' : 'none';\n",
              "\n",
              "        async function convertToInteractive(key) {\n",
              "          const element = document.querySelector('#df-1e205532-6a14-4078-8351-0e1472537c3d');\n",
              "          const dataTable =\n",
              "            await google.colab.kernel.invokeFunction('convertToInteractive',\n",
              "                                                     [key], {});\n",
              "          if (!dataTable) return;\n",
              "\n",
              "          const docLinkHtml = 'Like what you see? Visit the ' +\n",
              "            '<a target=\"_blank\" href=https://colab.research.google.com/notebooks/data_table.ipynb>data table notebook</a>'\n",
              "            + ' to learn more about interactive tables.';\n",
              "          element.innerHTML = '';\n",
              "          dataTable['output_type'] = 'display_data';\n",
              "          await google.colab.output.renderOutput(dataTable, element);\n",
              "          const docLink = document.createElement('div');\n",
              "          docLink.innerHTML = docLinkHtml;\n",
              "          element.appendChild(docLink);\n",
              "        }\n",
              "      </script>\n",
              "    </div>\n",
              "  </div>\n",
              "  "
            ],
            "text/plain": [
              "            Date          Open          High           Low         Close  \\\n",
              "1065  2017-08-17   4384.439941   4484.700195   4243.709961   4331.689941   \n",
              "1066  2017-08-18   4324.339844   4370.129883   4015.399902   4160.620117   \n",
              "1067  2017-08-19   4137.750000   4243.259766   3970.550049   4193.700195   \n",
              "1068  2017-08-20   4189.310059   4196.290039   4069.879883   4087.659912   \n",
              "1069  2017-08-21   4090.479980   4109.140137   3988.600098   4001.739990   \n",
              "...          ...           ...           ...           ...           ...   \n",
              "2491  2021-07-13  33125.468750  33327.101563  32261.419922  32702.025391   \n",
              "2492  2021-07-14  32723.845703  33061.398438  31639.125000  32822.347656   \n",
              "2493  2021-07-15  32827.875000  33159.640625  31175.708984  31780.730469   \n",
              "2494  2021-07-16  31841.550781  32218.406250  31100.673828  31421.539063   \n",
              "2495  2021-07-17  31397.308594  31935.945313  31223.990234  31533.068359   \n",
              "\n",
              "         Adj Close       Volume       diffhl       diffoc       average  \\\n",
              "1065   4331.689941   2553359872   240.990234    52.750000   4364.205078   \n",
              "1066   4160.620117   2941710080   354.729981   163.719727   4192.764892   \n",
              "1067   4193.700195   2975820032   272.709717   -55.950195   4106.904908   \n",
              "1068   4087.659912   2109769984   126.410156   101.650147   4133.084961   \n",
              "1069   4001.739990   2800890112   120.540039    88.739990   4048.870118   \n",
              "...            ...          ...          ...          ...           ...   \n",
              "2491  32702.025391  19120856669  1065.681641   423.443359  32794.260743   \n",
              "2492  32822.347656  21376531210  1422.273438   -98.501953  32350.261719   \n",
              "2493  31780.730469  21300524237  1983.931641  1047.144531  32167.674804   \n",
              "2494  31421.539063  23699476918  1117.732422   420.011718  31659.540039   \n",
              "2495  31533.068359  18895018942   711.955079  -135.759765  31579.967774   \n",
              "\n",
              "      number of trades  \n",
              "1065            3427.0  \n",
              "1066            5233.0  \n",
              "1067            2153.0  \n",
              "1068            2321.0  \n",
              "1069            3972.0  \n",
              "...                ...  \n",
              "2491          956053.0  \n",
              "2492         1123129.0  \n",
              "2493         1099367.0  \n",
              "2494         1067591.0  \n",
              "2495           77325.0  \n",
              "\n",
              "[1431 rows x 11 columns]"
            ]
          },
          "execution_count": 49,
          "metadata": {},
          "output_type": "execute_result"
        }
      ],
      "source": [
        "df.drop('date',1)"
      ]
    },
    {
      "cell_type": "code",
      "execution_count": null,
      "metadata": {
        "id": "IgY83bfubFB6"
      },
      "outputs": [],
      "source": [
        "df['Date'] = pd.to_datetime(df['Date'])\n",
        "# add a column for Year\n",
        "df['Year'] = df['Date'].dt.year"
      ]
    },
    {
      "cell_type": "code",
      "execution_count": null,
      "metadata": {
        "id": "vBqB7jXmZ9p9"
      },
      "outputs": [],
      "source": [
        "df_2017 = df[df['Year'] == 2017]\n"
      ]
    },
    {
      "cell_type": "code",
      "execution_count": null,
      "metadata": {
        "id": "hZUBAwVkcARA"
      },
      "outputs": [],
      "source": [
        "df_2017['Date'] = pd.to_datetime(df_2017['Date'])\n",
        "# add a column for Year\n",
        "df_2017['Month'] = df_2017['Date'].dt.month"
      ]
    },
    {
      "cell_type": "code",
      "execution_count": null,
      "metadata": {
        "colab": {
          "base_uri": "https://localhost:8080/",
          "height": 676
        },
        "id": "bYCj5NE7cKpj",
        "outputId": "ef71b1f8-e663-408c-8e8f-17bc1a09663f"
      },
      "outputs": [
        {
          "data": {
            "text/html": [
              "\n",
              "  <div id=\"df-72e62a57-ffee-49d9-916a-c0b8e49edf58\">\n",
              "    <div class=\"colab-df-container\">\n",
              "      <div>\n",
              "<style scoped>\n",
              "    .dataframe tbody tr th:only-of-type {\n",
              "        vertical-align: middle;\n",
              "    }\n",
              "\n",
              "    .dataframe tbody tr th {\n",
              "        vertical-align: top;\n",
              "    }\n",
              "\n",
              "    .dataframe thead th {\n",
              "        text-align: right;\n",
              "    }\n",
              "</style>\n",
              "<table border=\"1\" class=\"dataframe\">\n",
              "  <thead>\n",
              "    <tr style=\"text-align: right;\">\n",
              "      <th></th>\n",
              "      <th>Date</th>\n",
              "      <th>Open</th>\n",
              "      <th>High</th>\n",
              "      <th>Low</th>\n",
              "      <th>Close</th>\n",
              "      <th>Adj Close</th>\n",
              "      <th>Volume</th>\n",
              "      <th>diffhl</th>\n",
              "      <th>diffoc</th>\n",
              "      <th>average</th>\n",
              "      <th>date</th>\n",
              "      <th>number of trades</th>\n",
              "      <th>Date+1</th>\n",
              "      <th>Year</th>\n",
              "      <th>Month</th>\n",
              "    </tr>\n",
              "  </thead>\n",
              "  <tbody>\n",
              "    <tr>\n",
              "      <th>1065</th>\n",
              "      <td>2017-08-17</td>\n",
              "      <td>4384.439941</td>\n",
              "      <td>4484.700195</td>\n",
              "      <td>4243.709961</td>\n",
              "      <td>4331.689941</td>\n",
              "      <td>4331.689941</td>\n",
              "      <td>2553359872</td>\n",
              "      <td>240.990234</td>\n",
              "      <td>52.750000</td>\n",
              "      <td>4364.205078</td>\n",
              "      <td>2017-08-17</td>\n",
              "      <td>3427.0</td>\n",
              "      <td>2017-08-17</td>\n",
              "      <td>2017</td>\n",
              "      <td>8</td>\n",
              "    </tr>\n",
              "    <tr>\n",
              "      <th>1066</th>\n",
              "      <td>2017-08-18</td>\n",
              "      <td>4324.339844</td>\n",
              "      <td>4370.129883</td>\n",
              "      <td>4015.399902</td>\n",
              "      <td>4160.620117</td>\n",
              "      <td>4160.620117</td>\n",
              "      <td>2941710080</td>\n",
              "      <td>354.729981</td>\n",
              "      <td>163.719727</td>\n",
              "      <td>4192.764892</td>\n",
              "      <td>2017-08-18</td>\n",
              "      <td>5233.0</td>\n",
              "      <td>2017-08-18</td>\n",
              "      <td>2017</td>\n",
              "      <td>8</td>\n",
              "    </tr>\n",
              "    <tr>\n",
              "      <th>1067</th>\n",
              "      <td>2017-08-19</td>\n",
              "      <td>4137.750000</td>\n",
              "      <td>4243.259766</td>\n",
              "      <td>3970.550049</td>\n",
              "      <td>4193.700195</td>\n",
              "      <td>4193.700195</td>\n",
              "      <td>2975820032</td>\n",
              "      <td>272.709717</td>\n",
              "      <td>-55.950195</td>\n",
              "      <td>4106.904908</td>\n",
              "      <td>2017-08-19</td>\n",
              "      <td>2153.0</td>\n",
              "      <td>2017-08-19</td>\n",
              "      <td>2017</td>\n",
              "      <td>8</td>\n",
              "    </tr>\n",
              "    <tr>\n",
              "      <th>1068</th>\n",
              "      <td>2017-08-20</td>\n",
              "      <td>4189.310059</td>\n",
              "      <td>4196.290039</td>\n",
              "      <td>4069.879883</td>\n",
              "      <td>4087.659912</td>\n",
              "      <td>4087.659912</td>\n",
              "      <td>2109769984</td>\n",
              "      <td>126.410156</td>\n",
              "      <td>101.650147</td>\n",
              "      <td>4133.084961</td>\n",
              "      <td>2017-08-20</td>\n",
              "      <td>2321.0</td>\n",
              "      <td>2017-08-20</td>\n",
              "      <td>2017</td>\n",
              "      <td>8</td>\n",
              "    </tr>\n",
              "    <tr>\n",
              "      <th>1069</th>\n",
              "      <td>2017-08-21</td>\n",
              "      <td>4090.479980</td>\n",
              "      <td>4109.140137</td>\n",
              "      <td>3988.600098</td>\n",
              "      <td>4001.739990</td>\n",
              "      <td>4001.739990</td>\n",
              "      <td>2800890112</td>\n",
              "      <td>120.540039</td>\n",
              "      <td>88.739990</td>\n",
              "      <td>4048.870118</td>\n",
              "      <td>2017-08-21</td>\n",
              "      <td>3972.0</td>\n",
              "      <td>2017-08-21</td>\n",
              "      <td>2017</td>\n",
              "      <td>8</td>\n",
              "    </tr>\n",
              "    <tr>\n",
              "      <th>...</th>\n",
              "      <td>...</td>\n",
              "      <td>...</td>\n",
              "      <td>...</td>\n",
              "      <td>...</td>\n",
              "      <td>...</td>\n",
              "      <td>...</td>\n",
              "      <td>...</td>\n",
              "      <td>...</td>\n",
              "      <td>...</td>\n",
              "      <td>...</td>\n",
              "      <td>...</td>\n",
              "      <td>...</td>\n",
              "      <td>...</td>\n",
              "      <td>...</td>\n",
              "      <td>...</td>\n",
              "    </tr>\n",
              "    <tr>\n",
              "      <th>1197</th>\n",
              "      <td>2017-12-27</td>\n",
              "      <td>16163.500000</td>\n",
              "      <td>16930.900391</td>\n",
              "      <td>15114.299805</td>\n",
              "      <td>15838.500000</td>\n",
              "      <td>15838.500000</td>\n",
              "      <td>12487600128</td>\n",
              "      <td>1816.600586</td>\n",
              "      <td>325.000000</td>\n",
              "      <td>16022.600098</td>\n",
              "      <td>2017-12-27</td>\n",
              "      <td>142202.0</td>\n",
              "      <td>2017-12-27</td>\n",
              "      <td>2017</td>\n",
              "      <td>12</td>\n",
              "    </tr>\n",
              "    <tr>\n",
              "      <th>1198</th>\n",
              "      <td>2017-12-28</td>\n",
              "      <td>15864.099609</td>\n",
              "      <td>15888.400391</td>\n",
              "      <td>13937.299805</td>\n",
              "      <td>14606.500000</td>\n",
              "      <td>14606.500000</td>\n",
              "      <td>12336499712</td>\n",
              "      <td>1951.100586</td>\n",
              "      <td>1257.599609</td>\n",
              "      <td>14912.850098</td>\n",
              "      <td>2017-12-28</td>\n",
              "      <td>178032.0</td>\n",
              "      <td>2017-12-28</td>\n",
              "      <td>2017</td>\n",
              "      <td>12</td>\n",
              "    </tr>\n",
              "    <tr>\n",
              "      <th>1199</th>\n",
              "      <td>2017-12-29</td>\n",
              "      <td>14695.799805</td>\n",
              "      <td>15279.000000</td>\n",
              "      <td>14307.000000</td>\n",
              "      <td>14656.200195</td>\n",
              "      <td>14656.200195</td>\n",
              "      <td>13025500160</td>\n",
              "      <td>972.000000</td>\n",
              "      <td>39.599610</td>\n",
              "      <td>14793.000000</td>\n",
              "      <td>2017-12-29</td>\n",
              "      <td>142100.0</td>\n",
              "      <td>2017-12-29</td>\n",
              "      <td>2017</td>\n",
              "      <td>12</td>\n",
              "    </tr>\n",
              "    <tr>\n",
              "      <th>1200</th>\n",
              "      <td>2017-12-30</td>\n",
              "      <td>14681.900391</td>\n",
              "      <td>14681.900391</td>\n",
              "      <td>12350.099609</td>\n",
              "      <td>12952.200195</td>\n",
              "      <td>12952.200195</td>\n",
              "      <td>14452599808</td>\n",
              "      <td>2331.800782</td>\n",
              "      <td>1729.700196</td>\n",
              "      <td>13516.000000</td>\n",
              "      <td>2017-12-30</td>\n",
              "      <td>190204.0</td>\n",
              "      <td>2017-12-30</td>\n",
              "      <td>2017</td>\n",
              "      <td>12</td>\n",
              "    </tr>\n",
              "    <tr>\n",
              "      <th>1201</th>\n",
              "      <td>2017-12-31</td>\n",
              "      <td>12897.700195</td>\n",
              "      <td>14377.400391</td>\n",
              "      <td>12755.599609</td>\n",
              "      <td>14156.400391</td>\n",
              "      <td>14156.400391</td>\n",
              "      <td>12136299520</td>\n",
              "      <td>1621.800782</td>\n",
              "      <td>-1258.700196</td>\n",
              "      <td>13566.500000</td>\n",
              "      <td>2017-12-31</td>\n",
              "      <td>138893.0</td>\n",
              "      <td>2017-12-31</td>\n",
              "      <td>2017</td>\n",
              "      <td>12</td>\n",
              "    </tr>\n",
              "  </tbody>\n",
              "</table>\n",
              "<p>137 rows × 15 columns</p>\n",
              "</div>\n",
              "      <button class=\"colab-df-convert\" onclick=\"convertToInteractive('df-72e62a57-ffee-49d9-916a-c0b8e49edf58')\"\n",
              "              title=\"Convert this dataframe to an interactive table.\"\n",
              "              style=\"display:none;\">\n",
              "        \n",
              "  <svg xmlns=\"http://www.w3.org/2000/svg\" height=\"24px\"viewBox=\"0 0 24 24\"\n",
              "       width=\"24px\">\n",
              "    <path d=\"M0 0h24v24H0V0z\" fill=\"none\"/>\n",
              "    <path d=\"M18.56 5.44l.94 2.06.94-2.06 2.06-.94-2.06-.94-.94-2.06-.94 2.06-2.06.94zm-11 1L8.5 8.5l.94-2.06 2.06-.94-2.06-.94L8.5 2.5l-.94 2.06-2.06.94zm10 10l.94 2.06.94-2.06 2.06-.94-2.06-.94-.94-2.06-.94 2.06-2.06.94z\"/><path d=\"M17.41 7.96l-1.37-1.37c-.4-.4-.92-.59-1.43-.59-.52 0-1.04.2-1.43.59L10.3 9.45l-7.72 7.72c-.78.78-.78 2.05 0 2.83L4 21.41c.39.39.9.59 1.41.59.51 0 1.02-.2 1.41-.59l7.78-7.78 2.81-2.81c.8-.78.8-2.07 0-2.86zM5.41 20L4 18.59l7.72-7.72 1.47 1.35L5.41 20z\"/>\n",
              "  </svg>\n",
              "      </button>\n",
              "      \n",
              "  <style>\n",
              "    .colab-df-container {\n",
              "      display:flex;\n",
              "      flex-wrap:wrap;\n",
              "      gap: 12px;\n",
              "    }\n",
              "\n",
              "    .colab-df-convert {\n",
              "      background-color: #E8F0FE;\n",
              "      border: none;\n",
              "      border-radius: 50%;\n",
              "      cursor: pointer;\n",
              "      display: none;\n",
              "      fill: #1967D2;\n",
              "      height: 32px;\n",
              "      padding: 0 0 0 0;\n",
              "      width: 32px;\n",
              "    }\n",
              "\n",
              "    .colab-df-convert:hover {\n",
              "      background-color: #E2EBFA;\n",
              "      box-shadow: 0px 1px 2px rgba(60, 64, 67, 0.3), 0px 1px 3px 1px rgba(60, 64, 67, 0.15);\n",
              "      fill: #174EA6;\n",
              "    }\n",
              "\n",
              "    [theme=dark] .colab-df-convert {\n",
              "      background-color: #3B4455;\n",
              "      fill: #D2E3FC;\n",
              "    }\n",
              "\n",
              "    [theme=dark] .colab-df-convert:hover {\n",
              "      background-color: #434B5C;\n",
              "      box-shadow: 0px 1px 3px 1px rgba(0, 0, 0, 0.15);\n",
              "      filter: drop-shadow(0px 1px 2px rgba(0, 0, 0, 0.3));\n",
              "      fill: #FFFFFF;\n",
              "    }\n",
              "  </style>\n",
              "\n",
              "      <script>\n",
              "        const buttonEl =\n",
              "          document.querySelector('#df-72e62a57-ffee-49d9-916a-c0b8e49edf58 button.colab-df-convert');\n",
              "        buttonEl.style.display =\n",
              "          google.colab.kernel.accessAllowed ? 'block' : 'none';\n",
              "\n",
              "        async function convertToInteractive(key) {\n",
              "          const element = document.querySelector('#df-72e62a57-ffee-49d9-916a-c0b8e49edf58');\n",
              "          const dataTable =\n",
              "            await google.colab.kernel.invokeFunction('convertToInteractive',\n",
              "                                                     [key], {});\n",
              "          if (!dataTable) return;\n",
              "\n",
              "          const docLinkHtml = 'Like what you see? Visit the ' +\n",
              "            '<a target=\"_blank\" href=https://colab.research.google.com/notebooks/data_table.ipynb>data table notebook</a>'\n",
              "            + ' to learn more about interactive tables.';\n",
              "          element.innerHTML = '';\n",
              "          dataTable['output_type'] = 'display_data';\n",
              "          await google.colab.output.renderOutput(dataTable, element);\n",
              "          const docLink = document.createElement('div');\n",
              "          docLink.innerHTML = docLinkHtml;\n",
              "          element.appendChild(docLink);\n",
              "        }\n",
              "      </script>\n",
              "    </div>\n",
              "  </div>\n",
              "  "
            ],
            "text/plain": [
              "           Date          Open          High           Low         Close  \\\n",
              "1065 2017-08-17   4384.439941   4484.700195   4243.709961   4331.689941   \n",
              "1066 2017-08-18   4324.339844   4370.129883   4015.399902   4160.620117   \n",
              "1067 2017-08-19   4137.750000   4243.259766   3970.550049   4193.700195   \n",
              "1068 2017-08-20   4189.310059   4196.290039   4069.879883   4087.659912   \n",
              "1069 2017-08-21   4090.479980   4109.140137   3988.600098   4001.739990   \n",
              "...         ...           ...           ...           ...           ...   \n",
              "1197 2017-12-27  16163.500000  16930.900391  15114.299805  15838.500000   \n",
              "1198 2017-12-28  15864.099609  15888.400391  13937.299805  14606.500000   \n",
              "1199 2017-12-29  14695.799805  15279.000000  14307.000000  14656.200195   \n",
              "1200 2017-12-30  14681.900391  14681.900391  12350.099609  12952.200195   \n",
              "1201 2017-12-31  12897.700195  14377.400391  12755.599609  14156.400391   \n",
              "\n",
              "         Adj Close       Volume       diffhl       diffoc       average  \\\n",
              "1065   4331.689941   2553359872   240.990234    52.750000   4364.205078   \n",
              "1066   4160.620117   2941710080   354.729981   163.719727   4192.764892   \n",
              "1067   4193.700195   2975820032   272.709717   -55.950195   4106.904908   \n",
              "1068   4087.659912   2109769984   126.410156   101.650147   4133.084961   \n",
              "1069   4001.739990   2800890112   120.540039    88.739990   4048.870118   \n",
              "...            ...          ...          ...          ...           ...   \n",
              "1197  15838.500000  12487600128  1816.600586   325.000000  16022.600098   \n",
              "1198  14606.500000  12336499712  1951.100586  1257.599609  14912.850098   \n",
              "1199  14656.200195  13025500160   972.000000    39.599610  14793.000000   \n",
              "1200  12952.200195  14452599808  2331.800782  1729.700196  13516.000000   \n",
              "1201  14156.400391  12136299520  1621.800782 -1258.700196  13566.500000   \n",
              "\n",
              "            date  number of trades      Date+1  Year  Month  \n",
              "1065  2017-08-17            3427.0  2017-08-17  2017      8  \n",
              "1066  2017-08-18            5233.0  2017-08-18  2017      8  \n",
              "1067  2017-08-19            2153.0  2017-08-19  2017      8  \n",
              "1068  2017-08-20            2321.0  2017-08-20  2017      8  \n",
              "1069  2017-08-21            3972.0  2017-08-21  2017      8  \n",
              "...          ...               ...         ...   ...    ...  \n",
              "1197  2017-12-27          142202.0  2017-12-27  2017     12  \n",
              "1198  2017-12-28          178032.0  2017-12-28  2017     12  \n",
              "1199  2017-12-29          142100.0  2017-12-29  2017     12  \n",
              "1200  2017-12-30          190204.0  2017-12-30  2017     12  \n",
              "1201  2017-12-31          138893.0  2017-12-31  2017     12  \n",
              "\n",
              "[137 rows x 15 columns]"
            ]
          },
          "execution_count": 65,
          "metadata": {},
          "output_type": "execute_result"
        }
      ],
      "source": [
        "df_2017"
      ]
    },
    {
      "cell_type": "code",
      "execution_count": null,
      "metadata": {
        "colab": {
          "base_uri": "https://localhost:8080/",
          "height": 276
        },
        "id": "sQOLh6ijYW0N",
        "outputId": "358eac05-5e26-419d-babd-c54b51947234"
      },
      "outputs": [
        {
          "data": {
            "image/png": "[encoded data removed]",
            "text/plain": [
              "<Figure size 432x288 with 1 Axes>"
            ]
          },
          "metadata": {
            "needs_background": "light"
          },
          "output_type": "display_data"
        }
      ],
      "source": [
        "x_values = df['Date']\n",
        "y_values = df['number of trades']\n",
        "plt.plot(x_values, y_values,color=\"green\",linestyle=\"-\",marker=\"\", linewidth = 0.4)\n",
        "plt.xticks(x_values[::365], rotation = 'horizontal')\n",
        "plt.show()"
      ]
    },
    {
      "cell_type": "markdown",
      "metadata": {
        "id": "4w5EKJi2X9r2"
      },
      "source": [
        "# **Statistical Analysis & Hypothesis Testing**"
      ]
    },
    {
      "cell_type": "code",
      "execution_count": null,
      "metadata": {
        "colab": {
          "base_uri": "https://localhost:8080/"
        },
        "id": "jKZJbW16auKV",
        "outputId": "f53df888-396f-46b9-e54c-e5a702ded56a"
      },
      "outputs": [
        {
          "data": {
            "text/plain": [
              "669601.6827393431"
            ]
          },
          "execution_count": 51,
          "metadata": {},
          "output_type": "execute_result"
        }
      ],
      "source": [
        "df['number of trades'].mean()"
      ]
    },
    {
      "cell_type": "code",
      "execution_count": null,
      "metadata": {
        "colab": {
          "base_uri": "https://localhost:8080/",
          "height": 350
        },
        "id": "XyymnFgUYOCG",
        "outputId": "e82bf115-d76b-4b99-ea60-e4a848d92519"
      },
      "outputs": [
        {
          "data": {
            "image/png": "[encoded data removed]",
            "text/plain": [
              "<Figure size 720x360 with 1 Axes>"
            ]
          },
          "metadata": {
            "needs_background": "light"
          },
          "output_type": "display_data"
        }
      ],
      "source": [
        "# mean and std values from the sample\n",
        "n = 1430\n",
        "mean = df['number of trades'].mean()\n",
        "std = 0.5 / np.sqrt(n)\n",
        "offset = 4*std\n",
        "\n",
        "# the x-axis ticks of the plot\n",
        "# generates 100 equally separated ticks\n",
        "x = np.linspace(mean - offset, mean + offset, n)\n",
        "\n",
        "# probability density function\n",
        "# of the given normal dist.\n",
        "y = stats.norm.pdf(x, mean, std)\n",
        "\n",
        "plt.figure(figsize=(10, 5))\n",
        "plt.plot(x,y)\n",
        "# put grids on the figure\n",
        "plt.grid()\n",
        "plt.xlabel(\"x\")\n",
        "plt.ylabel(\"Normal Distribution\")\n",
        "plt.fill_between(x, y, alpha=0.3, color=\"b\")\n",
        "plt.title(f\"Normal Dist. with Mean {mean}, Std {std}\")\n",
        "plt.show()"
      ]
    },
    {
      "cell_type": "markdown",
      "metadata": {
        "id": "koVdJxFiv6BK"
      },
      "source": [
        "Statistical tests on selected features (e.g. investigate whether there exist significant statistical differences between high and low prices with respect to open and close prices of the same day)\n"
      ]
    },
    {
      "cell_type": "code",
      "execution_count": null,
      "metadata": {
        "id": "HU-1QG_QYh67"
      },
      "outputs": [],
      "source": []
    }
  ],
  "metadata": {
    "colab": {
      "provenance": []
    },
    "kernelspec": {
      "display_name": "Python 3",
      "name": "python3"
    },
    "language_info": {
      "name": "python"
    }
  },
  "nbformat": 4,
  "nbformat_minor": 0
}
